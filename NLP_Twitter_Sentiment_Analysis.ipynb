{
 "cells": [
  {
   "cell_type": "markdown",
   "metadata": {
    "colab_type": "text",
    "id": "view-in-github"
   },
   "source": [
    "<a href=\"https://colab.research.google.com/github/mohsinziabutt/Applied-AI-Challenge-2/blob/main/NLP_Twitter_Sentiment_Analysis.ipynb\" target=\"_parent\"><img src=\"https://colab.research.google.com/assets/colab-badge.svg\" alt=\"Open In Colab\"/></a>"
   ]
  },
  {
   "cell_type": "code",
   "execution_count": 1,
   "metadata": {},
   "outputs": [
    {
     "name": "stderr",
     "output_type": "stream",
     "text": [
      "[nltk_data] Downloading package punkt to C:\\Users\\Mohsin Zia\n",
      "[nltk_data]     Butt\\AppData\\Roaming\\nltk_data...\n",
      "[nltk_data]   Package punkt is already up-to-date!\n",
      "[nltk_data] Downloading package wordnet to C:\\Users\\Mohsin Zia\n",
      "[nltk_data]     Butt\\AppData\\Roaming\\nltk_data...\n",
      "[nltk_data]   Package wordnet is already up-to-date!\n",
      "[nltk_data] Downloading package stopwords to C:\\Users\\Mohsin Zia\n",
      "[nltk_data]     Butt\\AppData\\Roaming\\nltk_data...\n",
      "[nltk_data]   Package stopwords is already up-to-date!\n"
     ]
    }
   ],
   "source": [
    "# import libraries\n",
    "import pandas as pd\n",
    "import numpy as np\n",
    "\n",
    "# libraries for data preprocessing\n",
    "import nltk\n",
    "# download modules available with NLTK\n",
    "nltk.download('punkt')\n",
    "nltk.download('wordnet')\n",
    "nltk.download('stopwords')\n",
    "\n",
    "from nltk.tokenize import word_tokenize\n",
    "from nltk.stem import WordNetLemmatizer\n",
    "from nltk.corpus import stopwords\n",
    "\n",
    "# libraries for data split and feature extraction\n",
    "from sklearn.model_selection import train_test_split\n",
    "from sklearn.feature_extraction.text import CountVectorizer\n",
    "from sklearn.feature_extraction.text import TfidfVectorizer\n",
    "\n",
    "# library for evaluation\n",
    "from sklearn import metrics\n",
    "\n",
    "# libraries for ML algorithms\n",
    "from sklearn import svm\n",
    "from sklearn import tree\n",
    "from sklearn.naive_bayes import GaussianNB\n",
    "\n",
    "# libraries for data plotting\n",
    "import seaborn as sns\n",
    "import matplotlib.pyplot as plt \n",
    "\n",
    "RANDOM_SEED = 100"
   ]
  },
  {
   "cell_type": "markdown",
   "metadata": {
    "id": "H-Dq5aEe47Do"
   },
   "source": [
    "# **Importing dataset**"
   ]
  },
  {
   "cell_type": "code",
   "execution_count": 2,
   "metadata": {
    "colab": {
     "base_uri": "https://localhost:8080/",
     "height": 206
    },
    "id": "KDrW6qmCX6Wj",
    "outputId": "797c63cf-e43c-4b0d-e36c-0193469b38df"
   },
   "outputs": [
    {
     "name": "stdout",
     "output_type": "stream",
     "text": [
      "(16363, 3)\n"
     ]
    },
    {
     "data": {
      "text/html": [
       "<div>\n",
       "<style scoped>\n",
       "    .dataframe tbody tr th:only-of-type {\n",
       "        vertical-align: middle;\n",
       "    }\n",
       "\n",
       "    .dataframe tbody tr th {\n",
       "        vertical-align: top;\n",
       "    }\n",
       "\n",
       "    .dataframe thead th {\n",
       "        text-align: right;\n",
       "    }\n",
       "</style>\n",
       "<table border=\"1\" class=\"dataframe\">\n",
       "  <thead>\n",
       "    <tr style=\"text-align: right;\">\n",
       "      <th></th>\n",
       "      <th>Id</th>\n",
       "      <th>Text</th>\n",
       "      <th>Sentiment</th>\n",
       "    </tr>\n",
       "  </thead>\n",
       "  <tbody>\n",
       "    <tr>\n",
       "      <th>0</th>\n",
       "      <td>549e992a42</td>\n",
       "      <td>Sooo SAD I will miss you here in San Diego!!!</td>\n",
       "      <td>negative</td>\n",
       "    </tr>\n",
       "    <tr>\n",
       "      <th>1</th>\n",
       "      <td>088c60f138</td>\n",
       "      <td>my boss is bullying me...</td>\n",
       "      <td>negative</td>\n",
       "    </tr>\n",
       "    <tr>\n",
       "      <th>2</th>\n",
       "      <td>9642c003ef</td>\n",
       "      <td>what interview! leave me alone</td>\n",
       "      <td>negative</td>\n",
       "    </tr>\n",
       "    <tr>\n",
       "      <th>3</th>\n",
       "      <td>358bd9e861</td>\n",
       "      <td>Sons of ****, why couldn`t they put them on t...</td>\n",
       "      <td>negative</td>\n",
       "    </tr>\n",
       "    <tr>\n",
       "      <th>4</th>\n",
       "      <td>6e0c6d75b1</td>\n",
       "      <td>2am feedings for the baby are fun when he is a...</td>\n",
       "      <td>positive</td>\n",
       "    </tr>\n",
       "  </tbody>\n",
       "</table>\n",
       "</div>"
      ],
      "text/plain": [
       "           Id                                               Text Sentiment\n",
       "0  549e992a42      Sooo SAD I will miss you here in San Diego!!!  negative\n",
       "1  088c60f138                          my boss is bullying me...  negative\n",
       "2  9642c003ef                     what interview! leave me alone  negative\n",
       "3  358bd9e861   Sons of ****, why couldn`t they put them on t...  negative\n",
       "4  6e0c6d75b1  2am feedings for the baby are fun when he is a...  positive"
      ]
     },
     "execution_count": 2,
     "metadata": {},
     "output_type": "execute_result"
    }
   ],
   "source": [
    "# load the data set\n",
    "# As the parameter, the file path should be provided. Additionally, GitHub URL can also be provided as follows.\n",
    "df = pd.read_csv('https://raw.githubusercontent.com/mohsinziabutt/Applied-AI-Challenge-2/main/dataset/train.csv')\n",
    "\n",
    "print(df.shape)\n",
    "df.head()"
   ]
  },
  {
   "cell_type": "markdown",
   "metadata": {
    "id": "Cyo5kd3Ng2xm"
   },
   "source": [
    "# **Checking if there is any sentiment in the column other than negative and positive**"
   ]
  },
  {
   "cell_type": "code",
   "execution_count": 3,
   "metadata": {
    "colab": {
     "base_uri": "https://localhost:8080/"
    },
    "id": "pK8hWLpcgr8b",
    "outputId": "32066bf7-6d18-4a49-d455-b33b67f364e7",
    "scrolled": false
   },
   "outputs": [
    {
     "name": "stdout",
     "output_type": "stream",
     "text": [
      "Sentiment\n",
      "negative    7781\n",
      "positive    8582\n",
      "dtype: int64\n"
     ]
    },
    {
     "data": {
      "text/plain": [
       "<AxesSubplot:xlabel='Sentiment', ylabel='count'>"
      ]
     },
     "execution_count": 3,
     "metadata": {},
     "output_type": "execute_result"
    },
    {
     "data": {
      "image/png": "[encoded data removed]",
      "text/plain": [
       "<Figure size 432x288 with 1 Axes>"
      ]
     },
     "metadata": {
      "needs_background": "light"
     },
     "output_type": "display_data"
    }
   ],
   "source": [
    "print(df.pivot_table(columns=['Sentiment'], aggfunc='size'))\n",
    "\n",
    "# Summarise class details\n",
    "sns.countplot(x=df['Sentiment'])"
   ]
  },
  {
   "cell_type": "markdown",
   "metadata": {},
   "source": [
    "# **Drop Null Values**"
   ]
  },
  {
   "cell_type": "code",
   "execution_count": 4,
   "metadata": {},
   "outputs": [
    {
     "name": "stdout",
     "output_type": "stream",
     "text": [
      "Number of entries: 16363\n"
     ]
    }
   ],
   "source": [
    "# drop the rows where at least one element is missing\n",
    "df = df.dropna()\n",
    "print(f'Number of entries: {len(df)}')"
   ]
  },
  {
   "cell_type": "markdown",
   "metadata": {},
   "source": [
    "# **Data Pre-Processing**"
   ]
  },
  {
   "cell_type": "markdown",
   "metadata": {},
   "source": [
    "**1. Tokenisation**"
   ]
  },
  {
   "cell_type": "code",
   "execution_count": 5,
   "metadata": {
    "scrolled": true
   },
   "outputs": [
    {
     "name": "stdout",
     "output_type": "stream",
     "text": [
      "[['Sooo', 'SAD', 'I', 'will', 'miss', 'you', 'here', 'in', 'San', 'Diego', '!', '!', '!'], ['my', 'boss', 'is', 'bullying', 'me', '...']]\n",
      "['Sooo SAD I will miss you here in San Diego ! ! !', 'my boss is bullying me ...']\n"
     ]
    },
    {
     "data": {
      "text/html": [
       "<div>\n",
       "<style scoped>\n",
       "    .dataframe tbody tr th:only-of-type {\n",
       "        vertical-align: middle;\n",
       "    }\n",
       "\n",
       "    .dataframe tbody tr th {\n",
       "        vertical-align: top;\n",
       "    }\n",
       "\n",
       "    .dataframe thead th {\n",
       "        text-align: right;\n",
       "    }\n",
       "</style>\n",
       "<table border=\"1\" class=\"dataframe\">\n",
       "  <thead>\n",
       "    <tr style=\"text-align: right;\">\n",
       "      <th></th>\n",
       "      <th>Id</th>\n",
       "      <th>Text</th>\n",
       "      <th>Sentiment</th>\n",
       "      <th>Tokenised_Text</th>\n",
       "    </tr>\n",
       "  </thead>\n",
       "  <tbody>\n",
       "    <tr>\n",
       "      <th>0</th>\n",
       "      <td>549e992a42</td>\n",
       "      <td>Sooo SAD I will miss you here in San Diego!!!</td>\n",
       "      <td>negative</td>\n",
       "      <td>Sooo SAD I will miss you here in San Diego ! ! !</td>\n",
       "    </tr>\n",
       "    <tr>\n",
       "      <th>1</th>\n",
       "      <td>088c60f138</td>\n",
       "      <td>my boss is bullying me...</td>\n",
       "      <td>negative</td>\n",
       "      <td>my boss is bullying me ...</td>\n",
       "    </tr>\n",
       "    <tr>\n",
       "      <th>2</th>\n",
       "      <td>9642c003ef</td>\n",
       "      <td>what interview! leave me alone</td>\n",
       "      <td>negative</td>\n",
       "      <td>what interview ! leave me alone</td>\n",
       "    </tr>\n",
       "    <tr>\n",
       "      <th>3</th>\n",
       "      <td>358bd9e861</td>\n",
       "      <td>Sons of ****, why couldn`t they put them on t...</td>\n",
       "      <td>negative</td>\n",
       "      <td>Sons of * * * * , why couldn ` t they put them...</td>\n",
       "    </tr>\n",
       "    <tr>\n",
       "      <th>4</th>\n",
       "      <td>6e0c6d75b1</td>\n",
       "      <td>2am feedings for the baby are fun when he is a...</td>\n",
       "      <td>positive</td>\n",
       "      <td>2am feedings for the baby are fun when he is a...</td>\n",
       "    </tr>\n",
       "  </tbody>\n",
       "</table>\n",
       "</div>"
      ],
      "text/plain": [
       "           Id                                               Text Sentiment  \\\n",
       "0  549e992a42      Sooo SAD I will miss you here in San Diego!!!  negative   \n",
       "1  088c60f138                          my boss is bullying me...  negative   \n",
       "2  9642c003ef                     what interview! leave me alone  negative   \n",
       "3  358bd9e861   Sons of ****, why couldn`t they put them on t...  negative   \n",
       "4  6e0c6d75b1  2am feedings for the baby are fun when he is a...  positive   \n",
       "\n",
       "                                      Tokenised_Text  \n",
       "0   Sooo SAD I will miss you here in San Diego ! ! !  \n",
       "1                         my boss is bullying me ...  \n",
       "2                    what interview ! leave me alone  \n",
       "3  Sons of * * * * , why couldn ` t they put them...  \n",
       "4  2am feedings for the baby are fun when he is a...  "
      ]
     },
     "execution_count": 5,
     "metadata": {},
     "output_type": "execute_result"
    }
   ],
   "source": [
    "# iterate through each row in 'Text' columm and convert text to tokens\n",
    "list_tokenised_text = [word_tokenize(text) for text in df['Text']]\n",
    "print(list_tokenised_text[:2])\n",
    "\n",
    "list_tokenised_sentences = [' '.join(tokens) for tokens in list_tokenised_text]\n",
    "print(list_tokenised_sentences[:2])\n",
    "\n",
    "# add new column to data frame\n",
    "df['Tokenised_Text'] = list_tokenised_sentences\n",
    "df.head()"
   ]
  },
  {
   "cell_type": "markdown",
   "metadata": {},
   "source": [
    "**2. Text Normalisation**"
   ]
  },
  {
   "cell_type": "code",
   "execution_count": 6,
   "metadata": {
    "scrolled": true
   },
   "outputs": [
    {
     "name": "stdout",
     "output_type": "stream",
     "text": [
      "['Sooo SAD I will miss you here in San Diego ! ! !', 'my bos is bullying me ...']\n"
     ]
    },
    {
     "data": {
      "text/html": [
       "<div>\n",
       "<style scoped>\n",
       "    .dataframe tbody tr th:only-of-type {\n",
       "        vertical-align: middle;\n",
       "    }\n",
       "\n",
       "    .dataframe tbody tr th {\n",
       "        vertical-align: top;\n",
       "    }\n",
       "\n",
       "    .dataframe thead th {\n",
       "        text-align: right;\n",
       "    }\n",
       "</style>\n",
       "<table border=\"1\" class=\"dataframe\">\n",
       "  <thead>\n",
       "    <tr style=\"text-align: right;\">\n",
       "      <th></th>\n",
       "      <th>Id</th>\n",
       "      <th>Text</th>\n",
       "      <th>Sentiment</th>\n",
       "      <th>Tokenised_Text</th>\n",
       "      <th>Lemmatised_Text</th>\n",
       "    </tr>\n",
       "  </thead>\n",
       "  <tbody>\n",
       "    <tr>\n",
       "      <th>0</th>\n",
       "      <td>549e992a42</td>\n",
       "      <td>Sooo SAD I will miss you here in San Diego!!!</td>\n",
       "      <td>negative</td>\n",
       "      <td>Sooo SAD I will miss you here in San Diego ! ! !</td>\n",
       "      <td>Sooo SAD I will miss you here in San Diego ! ! !</td>\n",
       "    </tr>\n",
       "    <tr>\n",
       "      <th>1</th>\n",
       "      <td>088c60f138</td>\n",
       "      <td>my boss is bullying me...</td>\n",
       "      <td>negative</td>\n",
       "      <td>my boss is bullying me ...</td>\n",
       "      <td>my bos is bullying me ...</td>\n",
       "    </tr>\n",
       "    <tr>\n",
       "      <th>2</th>\n",
       "      <td>9642c003ef</td>\n",
       "      <td>what interview! leave me alone</td>\n",
       "      <td>negative</td>\n",
       "      <td>what interview ! leave me alone</td>\n",
       "      <td>what interview ! leave me alone</td>\n",
       "    </tr>\n",
       "    <tr>\n",
       "      <th>3</th>\n",
       "      <td>358bd9e861</td>\n",
       "      <td>Sons of ****, why couldn`t they put them on t...</td>\n",
       "      <td>negative</td>\n",
       "      <td>Sons of * * * * , why couldn ` t they put them...</td>\n",
       "      <td>Sons of * * * * , why couldn ` t they put them...</td>\n",
       "    </tr>\n",
       "    <tr>\n",
       "      <th>4</th>\n",
       "      <td>6e0c6d75b1</td>\n",
       "      <td>2am feedings for the baby are fun when he is a...</td>\n",
       "      <td>positive</td>\n",
       "      <td>2am feedings for the baby are fun when he is a...</td>\n",
       "      <td>2am feeding for the baby are fun when he is al...</td>\n",
       "    </tr>\n",
       "  </tbody>\n",
       "</table>\n",
       "</div>"
      ],
      "text/plain": [
       "           Id                                               Text Sentiment  \\\n",
       "0  549e992a42      Sooo SAD I will miss you here in San Diego!!!  negative   \n",
       "1  088c60f138                          my boss is bullying me...  negative   \n",
       "2  9642c003ef                     what interview! leave me alone  negative   \n",
       "3  358bd9e861   Sons of ****, why couldn`t they put them on t...  negative   \n",
       "4  6e0c6d75b1  2am feedings for the baby are fun when he is a...  positive   \n",
       "\n",
       "                                      Tokenised_Text  \\\n",
       "0   Sooo SAD I will miss you here in San Diego ! ! !   \n",
       "1                         my boss is bullying me ...   \n",
       "2                    what interview ! leave me alone   \n",
       "3  Sons of * * * * , why couldn ` t they put them...   \n",
       "4  2am feedings for the baby are fun when he is a...   \n",
       "\n",
       "                                     Lemmatised_Text  \n",
       "0   Sooo SAD I will miss you here in San Diego ! ! !  \n",
       "1                          my bos is bullying me ...  \n",
       "2                    what interview ! leave me alone  \n",
       "3  Sons of * * * * , why couldn ` t they put them...  \n",
       "4  2am feeding for the baby are fun when he is al...  "
      ]
     },
     "execution_count": 6,
     "metadata": {},
     "output_type": "execute_result"
    }
   ],
   "source": [
    "wnl = WordNetLemmatizer()\n",
    "\n",
    "list_lemmatised_sentences = []\n",
    "\n",
    "# iterate through each list of tokens and lemmatise the tokens\n",
    "for tokens in list_tokenised_text:\n",
    "    lemma_words = [wnl.lemmatize(word) for word in tokens]\n",
    "    lemma_sentence = ' '.join(lemma_words)\n",
    "    list_lemmatised_sentences.append(lemma_sentence)\n",
    "  \n",
    "print(list_lemmatised_sentences[:2])\n",
    "\n",
    "# add new column to data frame\n",
    "df['Lemmatised_Text'] = list_lemmatised_sentences\n",
    "\n",
    "df.head()"
   ]
  },
  {
   "cell_type": "markdown",
   "metadata": {},
   "source": [
    "**3. Stop Words**"
   ]
  },
  {
   "cell_type": "code",
   "execution_count": 7,
   "metadata": {},
   "outputs": [
    {
     "name": "stdout",
     "output_type": "stream",
     "text": [
      "{'her', 'it', 'his', 'such', 'down', 'out', 'each', 'its', 'other', 'where', 'no', 'yours', 'yourself', 'hadn', 'once', 'is', \"shouldn't\", \"mightn't\", 'too', \"didn't\", 't', 'own', 'itself', 'against', 'wasn', 'an', 'whom', 'mightn', 'because', 'hers', 'off', 'he', 've', 'am', 'him', 'them', 'this', 'y', 'were', 'not', 're', 'shouldn', \"isn't\", \"wasn't\", \"needn't\", 'very', 'as', 'll', 'haven', 'been', 'under', 'will', 'or', 'me', 'from', 'on', 'those', 'further', 'why', 'd', \"she's\", 'these', 'and', 'any', 'isn', 'are', 'my', \"you've\", 'of', 'nor', 'there', 'theirs', 'ain', 'between', 'your', 'did', \"you'd\", 'couldn', 'don', 'doing', 'the', 'who', 'for', 'that', 'above', 'so', 'in', 'herself', 'mustn', \"hadn't\", 'up', 'before', 'most', \"couldn't\", 'weren', 'our', \"doesn't\", 'how', \"shan't\", 'ours', 'have', 'needn', 'here', 'all', 'didn', 'by', 'having', 'more', \"you'll\", \"you're\", 'they', 'some', 'shan', 'while', 'she', 'do', 'm', 'into', 'to', 'ma', \"haven't\", 'i', 'themselves', 'does', \"wouldn't\", 'yourselves', 'should', 'if', 'their', 'than', 'wouldn', 'was', 'over', \"it's\", \"hasn't\", \"don't\", 'has', 'during', \"that'll\", 'himself', 'we', 'won', \"mustn't\", 'which', 'had', 'both', 'a', 'when', 'at', 'you', 'until', 'but', 's', 'doesn', 'can', 'with', 'again', 'myself', 'what', 'about', \"won't\", 'o', 'few', 'only', \"aren't\", 'hasn', 'below', 'be', 'ourselves', 'aren', 'after', 'being', \"weren't\", 'then', 'same', 'just', 'now', \"should've\", 'through'}\n"
     ]
    }
   ],
   "source": [
    "# get English stopwords\n",
    "stop_words = set(stopwords.words('english')) \n",
    "print(stop_words)"
   ]
  },
  {
   "cell_type": "markdown",
   "metadata": {},
   "source": [
    "# Splitting data into Trainin and Testing"
   ]
  },
  {
   "cell_type": "code",
   "execution_count": 8,
   "metadata": {
    "id": "3F8Ws5L3dPxr",
    "scrolled": true
   },
   "outputs": [
    {
     "name": "stdout",
     "output_type": "stream",
     "text": [
      "training data set size: 11454\n",
      "validation data set size: 4909\n",
      "training data set size: 11454\n",
      "validation data set size: 4909\n",
      "training data set size: 11454\n",
      "validation data set size: 4909\n"
     ]
    }
   ],
   "source": [
    "# use raw text\n",
    "X_train_text, X_val_text, y_train, y_val = train_test_split(df['Text'], df['Sentiment'], test_size=0.3, random_state=RANDOM_SEED)\n",
    "print(f'training data set size: {len(X_train_text)}')\n",
    "print(f'validation data set size: {len(X_val_text)}')\n",
    "\n",
    "# use tokenised text\n",
    "X_train_tokenised_text, X_val_tokenised_text, y_train, y_val = train_test_split(df['Tokenised_Text'], df['Sentiment'], test_size=0.3, random_state=RANDOM_SEED)\n",
    "print(f'training data set size: {len(X_train_tokenised_text)}')\n",
    "print(f'validation data set size: {len(X_val_tokenised_text)}')\n",
    "\n",
    "# use lemmatised text\n",
    "X_train_lemmatised_text, X_val_lemmatised_text, y_train, y_val = train_test_split(df['Lemmatised_Text'], df['Sentiment'], test_size=0.3, random_state=RANDOM_SEED)\n",
    "print(f'training data set size: {len(X_train_lemmatised_text)}')\n",
    "print(f'validation data set size: {len(X_val_lemmatised_text)}')\n",
    "\n",
    "# define class_names to using with plot_confusion_matrix\n",
    "class_list = ['positive', 'negative']"
   ]
  },
  {
   "cell_type": "markdown",
   "metadata": {},
   "source": [
    "# Confusion Matrix"
   ]
  },
  {
   "cell_type": "code",
   "execution_count": 9,
   "metadata": {},
   "outputs": [],
   "source": [
    "# method to plot confusion matrix\n",
    "def plot_confusion_matrix(matrix, class_names):\n",
    "    plt.clf()\n",
    "    plt.imshow(matrix, interpolation='nearest', cmap=plt.cm.Set2_r)\n",
    "    plt.title('Confusion Matrix')\n",
    "    plt.ylabel('Predicted')\n",
    "    plt.xlabel('Actual')\n",
    "    tick_marks = np.arange(len(class_names))\n",
    "    plt.xticks(tick_marks, class_names)\n",
    "    plt.yticks(tick_marks, class_names)\n",
    "    s = [['TP','FP'], ['FN', 'TN']]\n",
    "\n",
    "    for i in range(2):\n",
    "        for j in range(2):\n",
    "            plt.text(j,i, str(s[i][j])+\" = \"+str(matrix[i][j]))\n",
    "    plt.show()\n",
    "\n",
    "# method to calculate evaluation results\n",
    "def evaluate(actuals, predictions, class_names):\n",
    "  accuracy = metrics.accuracy_score(actuals, predictions)\n",
    "  confusion_matrix = metrics.confusion_matrix(actuals, predictions, labels=class_names)\n",
    "  return accuracy, confusion_matrix"
   ]
  },
  {
   "cell_type": "markdown",
   "metadata": {
    "id": "ODSNzqaA6_P3"
   },
   "source": [
    "# SVM"
   ]
  },
  {
   "cell_type": "code",
   "execution_count": 10,
   "metadata": {
    "colab": {
     "base_uri": "https://localhost:8080/"
    },
    "id": "W8SfU3BxfMJr",
    "outputId": "2b5e4a3f-82ef-4274-e0b4-7a67feb840bb"
   },
   "outputs": [],
   "source": [
    "# method to train and predict using SVM classifier\n",
    "def get_svm_predictions(X_train, X_val, y_train, y_val, class_names):\n",
    "    # build model\n",
    "    clf = svm.SVC(kernel='linear', random_state=RANDOM_SEED) \n",
    "    clf.fit(X_train, y_train)\n",
    "\n",
    "    # Make predictions on test data\n",
    "    y_pred = clf.predict(X_val)\n",
    "\n",
    "    # evalution\n",
    "    accuracy, confusion_matrix = evaluate(y_val, y_pred, class_names)\n",
    "    print(f'Accuracy: {accuracy}')\n",
    "    plot_confusion_matrix(confusion_matrix, class_names)\n",
    "\n",
    "    return clf"
   ]
  },
  {
   "cell_type": "markdown",
   "metadata": {
    "id": "FRvkARMdf13C"
   },
   "source": [
    "**Predicting Model 1**"
   ]
  },
  {
   "cell_type": "code",
   "execution_count": 11,
   "metadata": {
    "id": "vvSc7co9f5VC"
   },
   "outputs": [
    {
     "name": "stdout",
     "output_type": "stream",
     "text": [
      "Accuracy: 0.8602566714198411\n"
     ]
    },
    {
     "data": {
      "image/png": "[encoded data removed]",
      "text/plain": [
       "<Figure size 432x288 with 1 Axes>"
      ]
     },
     "metadata": {
      "needs_background": "light"
     },
     "output_type": "display_data"
    }
   ],
   "source": [
    "vectorizer = CountVectorizer()  # default: lowercase=True, ngram_range=(1,1)\n",
    "vectorizer.fit(X_train_text)\n",
    "\n",
    "# convert train and test text data to numeric vectors\n",
    "X_train = vectorizer.transform(X_train_text)\n",
    "X_val = vectorizer.transform(X_val_text)\n",
    "\n",
    "m1 = get_svm_predictions(X_train, X_val, y_train, y_val, class_list)"
   ]
  },
  {
   "cell_type": "markdown",
   "metadata": {
    "id": "vL1BtcBFhUaw"
   },
   "source": [
    "**Predicting Model 2**"
   ]
  },
  {
   "cell_type": "code",
   "execution_count": 12,
   "metadata": {
    "colab": {
     "base_uri": "https://localhost:8080/"
    },
    "id": "yZ7glfezhLeD",
    "outputId": "eb53ea78-e17b-4f2c-fdf4-cbc682b1e0dd",
    "scrolled": false
   },
   "outputs": [
    {
     "name": "stdout",
     "output_type": "stream",
     "text": [
      "Accuracy: 0.8690160928906091\n"
     ]
    },
    {
     "data": {
      "image/png": "[encoded data removed]",
      "text/plain": [
       "<Figure size 432x288 with 1 Axes>"
      ]
     },
     "metadata": {
      "needs_background": "light"
     },
     "output_type": "display_data"
    }
   ],
   "source": [
    "vectorizer = TfidfVectorizer()  # default: lowercase=True, ngram_range=(1,1)\n",
    "vectorizer.fit(X_train_text)\n",
    "\n",
    "# convert train and test text data to numeric vectors\n",
    "X_train = vectorizer.transform(X_train_text)\n",
    "X_val = vectorizer.transform(X_val_text)\n",
    "\n",
    "m2 = get_svm_predictions(X_train, X_val, y_train, y_val, class_list)"
   ]
  },
  {
   "cell_type": "markdown",
   "metadata": {
    "id": "BGVEBzKi7iGC"
   },
   "source": [
    "**Predicting Model 3**"
   ]
  },
  {
   "cell_type": "code",
   "execution_count": 13,
   "metadata": {},
   "outputs": [
    {
     "name": "stdout",
     "output_type": "stream",
     "text": [
      "Accuracy: 0.8690160928906091\n"
     ]
    },
    {
     "data": {
      "image/png": "[encoded data removed]",
      "text/plain": [
       "<Figure size 432x288 with 1 Axes>"
      ]
     },
     "metadata": {
      "needs_background": "light"
     },
     "output_type": "display_data"
    }
   ],
   "source": [
    "vectorizer = TfidfVectorizer()  # default: lowercase=True, ngram_range=(1,1)\n",
    "vectorizer.fit(X_train_tokenised_text)\n",
    "\n",
    "# convert train and test text data to numeric vectors\n",
    "X_train = vectorizer.transform(X_train_tokenised_text)\n",
    "X_val = vectorizer.transform(X_val_tokenised_text)\n",
    "\n",
    "m3 = get_svm_predictions(X_train, X_val, y_train, y_val, class_list)"
   ]
  },
  {
   "cell_type": "markdown",
   "metadata": {
    "id": "iYrfHVUd7ZuD"
   },
   "source": [
    "**Predicting Model 4**"
   ]
  },
  {
   "cell_type": "code",
   "execution_count": 14,
   "metadata": {
    "id": "mgXPaxbnfiuc"
   },
   "outputs": [
    {
     "name": "stdout",
     "output_type": "stream",
     "text": [
      "Accuracy: 0.8690160928906091\n"
     ]
    },
    {
     "data": {
      "image/png": "[encoded data removed]",
      "text/plain": [
       "<Figure size 432x288 with 1 Axes>"
      ]
     },
     "metadata": {
      "needs_background": "light"
     },
     "output_type": "display_data"
    }
   ],
   "source": [
    "vectorizer = TfidfVectorizer()  # default: lowercase=True, ngram_range=(1,1)\n",
    "vectorizer.fit(X_train_lemmatised_text)\n",
    "\n",
    "# convert train and test text data to numeric vectors\n",
    "X_train = vectorizer.transform(X_train_lemmatised_text)\n",
    "X_val = vectorizer.transform(X_val_lemmatised_text)\n",
    "\n",
    "m4 = get_svm_predictions(X_train, X_val, y_train, y_val, class_list)"
   ]
  },
  {
   "cell_type": "markdown",
   "metadata": {
    "id": "_TftwjmSjkLI"
   },
   "source": [
    "**Predicting Model 5**"
   ]
  },
  {
   "cell_type": "code",
   "execution_count": 15,
   "metadata": {
    "id": "K2EGSHzIj7Ai"
   },
   "outputs": [
    {
     "name": "stdout",
     "output_type": "stream",
     "text": [
      "Accuracy: 0.8578121817070686\n"
     ]
    },
    {
     "data": {
      "image/png": "[encoded data removed]",
      "text/plain": [
       "<Figure size 432x288 with 1 Axes>"
      ]
     },
     "metadata": {
      "needs_background": "light"
     },
     "output_type": "display_data"
    }
   ],
   "source": [
    "vectorizer = TfidfVectorizer(stop_words=stop_words)  # default: lowercase=True, ngram_range=(1,1)\n",
    "vectorizer.fit(X_train_tokenised_text)\n",
    "\n",
    "# convert train and test text data to numeric vectors\n",
    "X_train = vectorizer.transform(X_train_tokenised_text)\n",
    "X_val = vectorizer.transform(X_val_tokenised_text)\n",
    "\n",
    "m5 = get_svm_predictions(X_train, X_val, y_train, y_val, class_list)"
   ]
  },
  {
   "cell_type": "markdown",
   "metadata": {
    "id": "oIfxHxhy8A6l"
   },
   "source": [
    "**Predicting Model 6**"
   ]
  },
  {
   "cell_type": "code",
   "execution_count": 16,
   "metadata": {
    "colab": {
     "base_uri": "https://localhost:8080/",
     "height": 206
    },
    "id": "lLpPI2ocj4Da",
    "outputId": "135b40ce-c472-4c47-a3be-496c28f7dde2",
    "scrolled": false
   },
   "outputs": [
    {
     "name": "stdout",
     "output_type": "stream",
     "text": [
      "Accuracy: 0.8594418415155837\n"
     ]
    },
    {
     "data": {
      "image/png": "[encoded data removed]",
      "text/plain": [
       "<Figure size 432x288 with 1 Axes>"
      ]
     },
     "metadata": {
      "needs_background": "light"
     },
     "output_type": "display_data"
    }
   ],
   "source": [
    "vectorizer = TfidfVectorizer(stop_words=stop_words)  # default: lowercase=True, ngram_range=(1,1)\n",
    "vectorizer.fit(X_train_lemmatised_text)\n",
    "\n",
    "# convert train and test text data to numeric vectors\n",
    "X_train = vectorizer.transform(X_train_lemmatised_text)\n",
    "X_val = vectorizer.transform(X_val_lemmatised_text)\n",
    "\n",
    "m6 = get_svm_predictions(X_train, X_val, y_train, y_val, class_list)"
   ]
  },
  {
   "cell_type": "markdown",
   "metadata": {},
   "source": [
    "# Predictions on new Tweets"
   ]
  },
  {
   "cell_type": "code",
   "execution_count": 17,
   "metadata": {},
   "outputs": [],
   "source": [
    "#import the csv file with tweets to be labelled\n",
    "new_df = pd.read_csv(\"https://raw.githubusercontent.com/mohsinziabutt/Applied-AI-Challenge-2/main/dataset/test.csv\")\n",
    "new_df = new_df[[\"Text\"]]\n",
    "\n",
    "new_df[\"Sentiment\"] = \"\""
   ]
  },
  {
   "cell_type": "code",
   "execution_count": 19,
   "metadata": {},
   "outputs": [
    {
     "name": "stdout",
     "output_type": "stream",
     "text": [
      "Accuracy: 0.8690160928906091\n"
     ]
    },
    {
     "data": {
      "image/png": "[encoded data removed]",
      "text/plain": [
       "<Figure size 432x288 with 1 Axes>"
      ]
     },
     "metadata": {
      "needs_background": "light"
     },
     "output_type": "display_data"
    }
   ],
   "source": [
    "# using the model with higher accuracy rate\n",
    "vectorizer = TfidfVectorizer()  # default: lowercase=True, ngram_range=(1,1)\n",
    "vectorizer.fit(X_train_text)\n",
    "\n",
    "# convert train and test text data to numeric vectors\n",
    "X_train = vectorizer.transform(X_train_text)\n",
    "X_val = vectorizer.transform(X_val_text)\n",
    "\n",
    "m2 = get_svm_predictions(X_train, X_val, y_train, y_val, class_list)"
   ]
  },
  {
   "cell_type": "code",
   "execution_count": 25,
   "metadata": {
    "scrolled": false
   },
   "outputs": [
    {
     "data": {
      "text/plain": [
       "0     positive\n",
       "1     negative\n",
       "2     positive\n",
       "3     positive\n",
       "4     positive\n",
       "5     negative\n",
       "6     negative\n",
       "7     negative\n",
       "8     negative\n",
       "9     negative\n",
       "10    negative\n",
       "11    negative\n",
       "12    negative\n",
       "13    positive\n",
       "14    negative\n",
       "15    negative\n",
       "16    negative\n",
       "17    negative\n",
       "18    positive\n",
       "19    positive\n",
       "Name: Sentiment, dtype: object"
      ]
     },
     "execution_count": 25,
     "metadata": {},
     "output_type": "execute_result"
    }
   ],
   "source": [
    "X_test = vectorizer.transform(new_df[\"Text\"])\n",
    "predictions = m2.predict(X_test)\n",
    "new_df[\"Sentiment\"] = predictions\n",
    "new_df[\"Sentiment\"].head(20)"
   ]
  },
  {
   "cell_type": "code",
   "execution_count": 26,
   "metadata": {},
   "outputs": [
    {
     "data": {
      "text/html": [
       "<div>\n",
       "<style scoped>\n",
       "    .dataframe tbody tr th:only-of-type {\n",
       "        vertical-align: middle;\n",
       "    }\n",
       "\n",
       "    .dataframe tbody tr th {\n",
       "        vertical-align: top;\n",
       "    }\n",
       "\n",
       "    .dataframe thead th {\n",
       "        text-align: right;\n",
       "    }\n",
       "</style>\n",
       "<table border=\"1\" class=\"dataframe\">\n",
       "  <thead>\n",
       "    <tr style=\"text-align: right;\">\n",
       "      <th></th>\n",
       "      <th>Text</th>\n",
       "      <th>Sentiment</th>\n",
       "    </tr>\n",
       "  </thead>\n",
       "  <tbody>\n",
       "    <tr>\n",
       "      <th>0</th>\n",
       "      <td>Shanghai is also really exciting (precisely -...</td>\n",
       "      <td>positive</td>\n",
       "    </tr>\n",
       "    <tr>\n",
       "      <th>1</th>\n",
       "      <td>Recession hit Veronique Branquinho, she has to...</td>\n",
       "      <td>negative</td>\n",
       "    </tr>\n",
       "    <tr>\n",
       "      <th>2</th>\n",
       "      <td>happy bday!</td>\n",
       "      <td>positive</td>\n",
       "    </tr>\n",
       "    <tr>\n",
       "      <th>3</th>\n",
       "      <td>http://twitpic.com/4w75p - I like it!!</td>\n",
       "      <td>positive</td>\n",
       "    </tr>\n",
       "    <tr>\n",
       "      <th>4</th>\n",
       "      <td>that`s great!! weee!! visitors!</td>\n",
       "      <td>positive</td>\n",
       "    </tr>\n",
       "    <tr>\n",
       "      <th>...</th>\n",
       "      <td>...</td>\n",
       "      <td>...</td>\n",
       "    </tr>\n",
       "    <tr>\n",
       "      <th>995</th>\n",
       "      <td>Haha...YAY!!! I`M CURED!!!!</td>\n",
       "      <td>positive</td>\n",
       "    </tr>\n",
       "    <tr>\n",
       "      <th>996</th>\n",
       "      <td>Sick, sick, sick. This sucks. i can`t even bre...</td>\n",
       "      <td>negative</td>\n",
       "    </tr>\n",
       "    <tr>\n",
       "      <th>997</th>\n",
       "      <td>Adding names to my Twitter account and learnin...</td>\n",
       "      <td>positive</td>\n",
       "    </tr>\n",
       "    <tr>\n",
       "      <th>998</th>\n",
       "      <td>ooh thats an early start  ive got bed planned...</td>\n",
       "      <td>positive</td>\n",
       "    </tr>\n",
       "    <tr>\n",
       "      <th>999</th>\n",
       "      <td>Booo my best friend is leavin for the weekend....</td>\n",
       "      <td>positive</td>\n",
       "    </tr>\n",
       "  </tbody>\n",
       "</table>\n",
       "<p>1000 rows × 2 columns</p>\n",
       "</div>"
      ],
      "text/plain": [
       "                                                  Text Sentiment\n",
       "0     Shanghai is also really exciting (precisely -...  positive\n",
       "1    Recession hit Veronique Branquinho, she has to...  negative\n",
       "2                                          happy bday!  positive\n",
       "3               http://twitpic.com/4w75p - I like it!!  positive\n",
       "4                      that`s great!! weee!! visitors!  positive\n",
       "..                                                 ...       ...\n",
       "995                        Haha...YAY!!! I`M CURED!!!!  positive\n",
       "996  Sick, sick, sick. This sucks. i can`t even bre...  negative\n",
       "997  Adding names to my Twitter account and learnin...  positive\n",
       "998   ooh thats an early start  ive got bed planned...  positive\n",
       "999  Booo my best friend is leavin for the weekend....  positive\n",
       "\n",
       "[1000 rows x 2 columns]"
      ]
     },
     "execution_count": 26,
     "metadata": {},
     "output_type": "execute_result"
    }
   ],
   "source": [
    "new_df = new_df[['Text', \"Sentiment\"]]\n",
    "new_df"
   ]
  },
  {
   "cell_type": "code",
   "execution_count": 27,
   "metadata": {},
   "outputs": [],
   "source": [
    "new_df.to_csv('NewPredictions.csv', header=True, index=False)"
   ]
  }
 ],
 "metadata": {
  "colab": {
   "authorship_tag": "ABX9TyPxKGSju1p1BvLxzd9asxZE",
   "collapsed_sections": [],
   "include_colab_link": true,
   "name": "NLP Twitter Sentiment Analysis.ipynb",
   "provenance": []
  },
  "kernelspec": {
   "display_name": "Python 3",
   "language": "python",
   "name": "python3"
  },
  "language_info": {
   "codemirror_mode": {
    "name": "ipython",
    "version": 3
   },
   "file_extension": ".py",
   "mimetype": "text/x-python",
   "name": "python",
   "nbconvert_exporter": "python",
   "pygments_lexer": "ipython3",
   "version": "3.8.8"
  }
 },
 "nbformat": 4,
 "nbformat_minor": 1
}
